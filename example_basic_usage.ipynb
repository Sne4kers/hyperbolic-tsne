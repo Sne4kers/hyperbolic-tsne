{
 "cells": [
  {
   "cell_type": "markdown",
   "metadata": {},
   "source": [
    "# HyperbolicTSNE\n",
    "\n",
    "This notebook illustrates the usage of the HyperbolicTSNE library. Specifically, we load a subset of the MNIST dataset and embed it in hyperbolic space using the accelerated version of hyperbolic tsne. Finally, we save the embedding result as an image."
   ]
  },
  {
   "cell_type": "markdown",
   "metadata": {},
   "source": [
    "## Setup\n",
    "\n",
    "First, we import the packages we will use and set important paths. Note that `hyperbolicTSNE.util` and `hyperbolicTSNE.visualization` contain useful functions for reading, processing and exporting embeddings. This requires that hyperbolicTSNE has been set up as detailed in the main readme of the repository. "
   ]
  },
  {
   "cell_type": "code",
   "execution_count": 1,
   "metadata": {
    "ExecuteTime": {
     "end_time": "2023-11-13T15:18:09.224771636Z",
     "start_time": "2023-11-13T15:18:08.516888492Z"
    }
   },
   "outputs": [
    {
     "name": "stdout",
     "output_type": "stream",
     "text": [
      "Please note that `empty_sequence` uses the KL divergence with Barnes-Hut approximation (angle=0.5) by default.\n"
     ]
    }
   ],
   "source": [
    "import os\n",
    "import traceback\n",
    "\n",
    "from hyperbolicTSNE.util import find_last_embedding\n",
    "from hyperbolicTSNE.visualization import plot_poincare, animate\n",
    "from hyperbolicTSNE import load_data, Datasets, SequentialOptimizer, initialization, HyperbolicTSNE"
   ]
  },
  {
   "cell_type": "markdown",
   "metadata": {
    "collapsed": false,
    "jupyter": {
     "outputs_hidden": false
    }
   },
   "source": [
    "We assume that there is a top-level folder `datasets` that holds the MNIST data set. Refer to the main readme of the repository for where to find the data sets used in this repository."
   ]
  },
  {
   "cell_type": "code",
   "execution_count": 2,
   "metadata": {
    "ExecuteTime": {
     "end_time": "2023-11-13T15:20:09.564819212Z",
     "start_time": "2023-11-13T15:20:09.560922527Z"
    }
   },
   "outputs": [],
   "source": [
    "data_home = \"datasets\"\n",
    "log_path = \"temp/poincare/\"  # path for saving embedding snapshots"
   ]
  },
  {
   "cell_type": "markdown",
   "metadata": {},
   "source": [
    "## Configure\n",
    "\n",
    "HyperbolicTSNE follows a similar API to other t-SNE libraries like OpenTSNE and sklearn. The configuration process consists of loading the data to embed and defining the settings of the embedder. We create a dict with parameters manually to demonstrate all the customization options. Nevertheless, `hyperbolicTSNE.hyperbolicTSNE` provides parameter templates to start with."
   ]
  },
  {
   "cell_type": "code",
   "execution_count": 3,
   "metadata": {
    "ExecuteTime": {
     "end_time": "2023-11-13T15:25:10.788279509Z",
     "start_time": "2023-11-13T15:25:07.900874773Z"
    }
   },
   "outputs": [],
   "source": [
    "only_animate = False\n",
    "seed = 42\n",
    "dataset = Datasets.C_ELEGANS  # the Datasets handler provides access to several data sets used throughout the repository\n",
    "num_points = 10000  # we use a subset for demonstration purposes, full MNIST has N=70000\n",
    "perp = 30  # we use a perplexity of 30 in this example\n",
    "\n",
    "dataX, dataLabels, D, V, _ = load_data(\n",
    "    dataset, \n",
    "    data_home=data_home, \n",
    "    random_state=seed, \n",
    "    to_return=\"X_labels_D_V\",\n",
    "    hd_params={\"perplexity\": perp}, \n",
    "    sample=num_points, \n",
    "    knn_method=\"hnswlib\"  # we use an approximation of high-dimensional neighbors to speed up computations\n",
    ")"
   ]
  },
  {
   "cell_type": "code",
   "execution_count": 4,
   "metadata": {
    "ExecuteTime": {
     "end_time": "2023-11-13T15:37:10.158602643Z",
     "start_time": "2023-11-13T15:37:10.142279339Z"
    }
   },
   "outputs": [
    {
     "name": "stdout",
     "output_type": "stream",
     "text": [
      "Please note that `empty_sequence` uses the KL divergence with Barnes-Hut approximation (angle=0.5) by default.\n",
      "config: {'learning_rate_ex': 0.8333333333333334, 'learning_rate_main': 0.8333333333333334, 'exaggeration': 12, 'exaggeration_its': 250, 'gradientDescent_its': 750, 'vanilla': False, 'momentum_ex': 0.5, 'momentum': 0.8, 'exact': False, 'area_split': False, 'n_iter_check': 10, 'size_tol': 0.999}\n"
     ]
    }
   ],
   "source": [
    "exaggeration_factor = 12  # Just like regular t-SNE, we use early exaggeration with a factor of 12\n",
    "learning_rate = (dataX.shape[0] * 1) / (exaggeration_factor * 1000)  # We adjust the learning rate to the hyperbolic setting\n",
    "ex_iterations = 250  # The embedder is to execute 250 iterations of early exaggeration, ...\n",
    "main_iterations = 750  # ... followed by 750 iterations of non-exaggerated gradient descent.\n",
    "\n",
    "opt_config = dict(\n",
    "    learning_rate_ex=learning_rate,  # learning rate during exaggeration\n",
    "    learning_rate_main=learning_rate,  # learning rate main optimization \n",
    "    exaggeration=exaggeration_factor, \n",
    "    exaggeration_its=ex_iterations, \n",
    "    gradientDescent_its=main_iterations, \n",
    "    vanilla=False,  # if vanilla is set to true, regular gradient descent without any modifications is performed; for  vanilla set to false, the optimization makes use of momentum and gains\n",
    "    momentum_ex=0.5,  # Set momentum during early exaggeration to 0.5\n",
    "    momentum=0.8,  # Set momentum during non-exaggerated gradient descent to 0.8\n",
    "    exact=False,  # To use the quad tree for acceleration (like Barnes-Hut in the Euclidean setting) or to evaluate the gradient exactly\n",
    "    area_split=False,  # To build or not build the polar quad tree based on equal area splitting or - alternatively - on equal length splitting\n",
    "    n_iter_check=10,  # Needed for early stopping criterion\n",
    "    size_tol=0.999  # Size of the embedding to be used as early stopping criterion\n",
    ")\n",
    "\n",
    "opt_params = SequentialOptimizer.sequence_poincare(**opt_config)\n",
    "\n",
    "# Start: configure logging\n",
    "logging_dict = {\n",
    "    \"log_path\": log_path\n",
    "}\n",
    "opt_params[\"logging_dict\"] = logging_dict\n",
    "\n",
    "log_path = opt_params[\"logging_dict\"][\"log_path\"]\n",
    "# Delete old log path\n",
    "if os.path.exists(log_path) and not only_animate:\n",
    "    import shutil\n",
    "    shutil.rmtree(log_path)\n",
    "# End: logging\n",
    "\n",
    "print(f\"config: {opt_config}\")"
   ]
  },
  {
   "cell_type": "markdown",
   "metadata": {},
   "source": [
    "## Run HyperbolicTSNE\n",
    "\n",
    "Embedding the high dimensional data consists of three steps:\n",
    "- Initializating the embedding\n",
    "- Initializing the embedder \n",
    "- Embedding the data\n",
    "\n",
    "The following three cells demonstrate this process. Note that use set metric to \"precomputed\" because we pass the distance matrix to the `fit` method."
   ]
  },
  {
   "cell_type": "code",
   "execution_count": 5,
   "metadata": {
    "ExecuteTime": {
     "end_time": "2023-11-13T15:37:39.820114839Z",
     "start_time": "2023-11-13T15:37:39.690680821Z"
    }
   },
   "outputs": [],
   "source": [
    "# Compute an initial embedding of the data via PCA\n",
    "X_embedded = initialization(\n",
    "    n_samples=dataX.shape[0],\n",
    "    n_components=2,\n",
    "    X=dataX,\n",
    "    random_state=seed,\n",
    "    method=\"pca\"\n",
    ")"
   ]
  },
  {
   "cell_type": "code",
   "execution_count": 6,
   "metadata": {
    "ExecuteTime": {
     "end_time": "2023-11-13T15:38:18.116323976Z",
     "start_time": "2023-11-13T15:38:18.075397174Z"
    }
   },
   "outputs": [],
   "source": [
    "# Initialize the embedder\n",
    "htsne = HyperbolicTSNE(\n",
    "    init=X_embedded, \n",
    "    n_components=2, \n",
    "    metric=\"precomputed\", \n",
    "    verbose=True, \n",
    "    opt_method=SequentialOptimizer, \n",
    "    opt_params=opt_params\n",
    ")"
   ]
  },
  {
   "cell_type": "code",
   "execution_count": 7,
   "metadata": {
    "ExecuteTime": {
     "end_time": "2023-11-13T15:40:06.268727695Z",
     "start_time": "2023-11-13T15:38:58.361025102Z"
    }
   },
   "outputs": [
    {
     "name": "stdout",
     "output_type": "stream",
     "text": [
      "[HyperbolicTSNE] Received iterable as input. It should have len=2 and contain (D=None, V=None)\n",
      "[hd_mat] Warning: There is nothing to do with given parameters. Returning given D and V\n",
      "Running Gradient Descent, Verbosity: True\n",
      "[gradient_descent] Warning: because of logging, the cf will be computed at every iteration\n"
     ]
    },
    {
     "name": "stderr",
     "output_type": "stream",
     "text": [
      "Gradient Descent error: 168.60138 grad_norm: 6.81478e-01:   2%|█▊                                                                                       | 5/250 [02:00<1:40:11, 24.54s/it]"
     ]
    },
    {
     "name": "stdout",
     "output_type": "stream",
     "text": [
      "[t-SNE] Tree: 11153186 clock ticks | [t-SNE] Tree: 14301697 clock ticks | Force computation: 181884864 clock ticks\n",
      "[t-SNE] Tree: 12079877 clock ticks | Force computation: 161160291 clock ticks\n",
      "[t-SNE] Tree: 11653510 clock ticks | Force computation: 164425666 clock ticks\n",
      "[t-SNE] Tree: 12993119 clock ticks | Force computation: 178847133 clock ticks\n",
      "[t-SNE] Tree: 12118380 clock ticks | Force computation: 179819432 clock ticks\n",
      "[t-SNE] Tree: 14484286 clock ticks | Force computation: 177890930 clock ticks\n",
      "[t-SNE] Tree: 14437356 clock ticks | Force computation: 180211625 clock ticks\n",
      "[t-SNE] Tree: 14519132 clock ticks | Force computation: 180401994 clock ticks\n",
      "[t-SNE] Tree: 13219466 clock ticks | Force computation: 181500007 clock ticks\n",
      "[t-SNE] Tree: 13278560 clock ticks | Force computation: 181490874 clock ticks\n",
      "Force computation: 160969319 clock ticks\n",
      "[t-SNE] Tree: 12983633 clock ticks | Force computation: 183289092 clock ticks\n",
      "[t-SNE] Tree: 8554684 clock ticks | [t-SNE] Tree: 13802083 clock ticks | Force computation: 177198013 clock ticks\n",
      "Force computation: 155419917 clock ticks\n",
      "[t-SNE] Tree: 10538522 clock ticks | [t-SNE] Tree: 11648343 clock ticks | Force computation: 178740279 clock ticks\n",
      "[t-SNE] Tree: 13346168 clock ticks | [t-SNE] Tree: 9589341 clock ticks | Force computation: 178476671 clock ticks\n",
      "[t-SNE] Tree: 12376790 clock ticks | Force computation: 177610617 clock ticks\n",
      "[t-SNE] Tree: 12257657 clock ticks | Force computation: 176187428 clock ticks\n",
      "[t-SNE] Tree: 13439687 clock ticks | Force computation: 178880368 clock ticks\n",
      "Force computation: 181100085 clock ticks\n",
      "[t-SNE] Tree: 12298616 clock ticks | Force computation: 175972689 clock ticks\n",
      "Force computation: 160272234 clock ticks\n",
      "[t-SNE] Tree: 12163345 clock ticks | Force computation: 176619605 clock ticks\n",
      "[t-SNE] Tree: 12323389 clock ticks | Force computation: 177976904 clock ticks\n",
      "[t-SNE] Tree: 11488035 clock ticks | Force computation: 174176640 clock ticks\n",
      "[t-SNE] Tree: 12730934 clock ticks | Force computation: 194361762 clock ticks\n",
      "[t-SNE] Tree: 14665377 clock ticks | Force computation: 193488775 clock ticks\n",
      "[t-SNE] Tree: 12605462 clock ticks | Force computation: 193938894 clock ticks\n",
      "[t-SNE] Tree: 13297850 clock ticks | Force computation: 194705152 clock ticks\n",
      "[t-SNE] Tree: 13037073 clock ticks | Force computation: 195055533 clock ticks\n",
      "[t-SNE] Tree: 13553673 clock ticks | [t-SNE] Tree: 12726039 clock ticks | Force computation: 184155931 clock ticks\n",
      "Force computation: 193137027 clock ticks\n",
      "[t-SNE] Tree: 13580296 clock ticks | Force computation: 193655761 clock ticks\n",
      "[t-SNE] Tree: 12543519 clock ticks | Force computation: 193398571 clock ticks\n",
      "[t-SNE] Tree: 13595849 clock ticks | Force computation: 193748564 clock ticks\n",
      "[t-SNE] Tree: 13525630 clock ticks | Force computation: 194446329 clock ticks\n",
      "[t-SNE] Tree: 12378699 clock ticks | [t-SNE] Tree: 12440792 clock ticks | Force computation: 191489464 clock ticks\n",
      "Force computation: 192141711 clock ticks\n",
      "[t-SNE] Tree: 15333711 clock ticks | [t-SNE] Tree: 13889271 clock ticks | [t-SNE] Tree: 13736993 clock ticks | Force computation: 185111668 clock ticks\n",
      "[t-SNE] Tree: 13835959 clock ticks | [t-SNE] Tree: 13768563 clock ticks | Force computation: 192677428 clock ticks\n",
      "Force computation: 193239878 clock ticks\n",
      "[t-SNE] Tree: 13903398 clock ticks | Force computation: 195752570 clock ticks\n",
      "[t-SNE] Tree: 14585056 clock ticks | Force computation: 195281901 clock ticks\n",
      "Force computation: 193941002 clock ticks\n",
      "Force computation: 195086240 clock ticks\n",
      "[t-SNE] Tree: 12904534 clock ticks | Force computation: 190626081 clock ticks\n",
      "[t-SNE] Tree: 14127589 clock ticks | Force computation: 194627625 clock ticks\n",
      "[t-SNE] Tree: 12937447 clock ticks | Force computation: 196305634 clock ticks\n",
      "[t-SNE] Tree: 10707647 clock ticks | [t-SNE] Tree: 12967678 clock ticks | [t-SNE] Tree: 13648477 clock ticks | Force computation: 199823068 clock ticks\n",
      "Force computation: 199904857 clock ticks\n",
      "[t-SNE] Tree: 13357323 clock ticks | Force computation: 197338603 clock ticks\n",
      "[t-SNE] Tree: 12189631 clock ticks | [t-SNE] Tree: 14461545 clock ticks | [t-SNE] T"
     ]
    },
    {
     "name": "stderr",
     "output_type": "stream",
     "text": [
      "Gradient Descent error: 168.60144 grad_norm: 6.78847e-01:   4%|███▏                                                                                     | 9/250 [03:39<1:39:13, 24.70s/it]"
     ]
    },
    {
     "name": "stdout",
     "output_type": "stream",
     "text": [
      "ree: 14153184 clock ticks | [t-SNE] Tree: 14235899 clock ticks | Force computation: 200384192 clock ticks\n",
      "Force computation: 198235711 clock ticks\n",
      "Force computation: 193294196 clock ticks\n",
      "[t-SNE] Tree: 13338018 clock ticks | Force computation: 201594113 clock ticks\n",
      "[t-SNE] Tree: 12973888 clock ticks | Force computation: 200810106 clock ticks\n",
      "Force computation: 191732541 clock ticks\n",
      "[t-SNE] Tree: 12792340 clock ticks | Force computation: 201626298 clock ticks\n",
      "[t-SNE] Tree: 13498030 clock ticks | Force computation: 201041156 clock ticks\n",
      "Force computation: 187055127 clock ticks\n",
      "[t-SNE] Tree: 12745752 clock ticks | [t-SNE] Tree: 13049526 clock ticks | Force computation: 203145024 clock ticks\n",
      "Force computation: 199851846 clock ticks\n",
      "[t-SNE] Tree: 13321132 clock ticks | [t-SNE] Tree: 13953052 clock ticks | Force computation: 207562352 clock ticks\n",
      "[t-SNE] Tree: 13352231 clock ticks | [t-SNE] Tree: 13410016 clock ticks | Force computation: 207471275 clock ticks\n",
      "[t-SNE] Tree: 12928462 clock ticks | [t-SNE] Tree: 13419217 clock ticks | Force computation: 200811789 clock ticks\n",
      "[t-SNE] Tree: 13921701 clock ticks | Force computation: 207762543 clock ticks\n",
      "[t-SNE] Tree: 12946991 clock ticks | Force computation: 208823019 clock ticks\n",
      "Force computation: 205986809 clock ticks\n",
      "[t-SNE] Tree: 12063807 clock ticks | Force computation: 203649129 clock ticks\n",
      "[t-SNE] Tree: 12134012 clock ticks | Force computation: 195328963 clock ticks\n",
      "Force computation: 208361846 clock ticks\n",
      "Force computation: 208970897 clock ticks\n",
      "[t-SNE] Tree: 12647824 clock ticks | [t-SNE] Tree: 12780117 clock ticks | [t-SNE] Tree: 12998371 clock ticks | Force computation: 196415533 clock ticks\n",
      "[t-SNE] Tree: 12454115 clock ticks | [t-SNE] Tree: 12920489 clock ticks | Force computation: 196361569 clock ticks\n",
      "[t-SNE] Tree: 12296451 clock ticks | Force computation: 198463124 clock ticks\n",
      "Force computation: 194353034 clock ticks\n",
      "[t-SNE] Tree: 13461609 clock ticks | Force computation: 199270955 clock ticks\n",
      "[t-SNE] Tree: 13097857 clock ticks | Force computation: 199061227 clock ticks\n",
      "Force computation: 188305710 clock ticks\n",
      "Force computation: 195489893 clock ticks\n",
      "[t-SNE] Tree: 13758249 clock ticks | Force computation: 198847930 clock ticks\n",
      "[t-SNE] Tree: 13778229 clock ticks | Force computation: 198920565 clock ticks\n",
      "[t-SNE] Tree: 13279682 clock ticks | Force computation: 199157569 clock ticks\n",
      "[t-SNE] Tree: 12211372 clock ticks | Force computation: 199000887 clock ticks\n",
      "[t-SNE] Tree: 13932946 clock ticks | [t-SNE] Tree: 13072169 clock ticks | Force computation: 191307488 clock ticks\n",
      "Force computation: 190948912 clock ticks\n",
      "[t-SNE] Tree: 14112783 clock ticks | Force computation: 190448580 clock ticks\n",
      "[t-SNE] Tree: 12056667 clock ticks | [t-SNE] Tree: 13981150 clock ticks | Force computation: 191887264 clock ticks\n",
      "Force computation: 189655349 clock ticks\n",
      "[t-SNE] Tree: 12626267 clock ticks | Force computation: 183869109 clock ticks\n",
      "[t-SNE] Tree: 11602052 clock ticks | Force computation: 185091248 clock ticks\n",
      "[t-SNE] Tree: 11644425 clock ticks | [t-SNE] Tree: 11401266 clock ticks | Force computation: 185241289 clock ticks\n",
      "[t-SNE] Tree: 12673831 clock ticks | Force computation: 189899665 clock ticks\n",
      "Force computation: 188783640 clock ticks\n",
      "[t-SNE] Tree: 11713386 clock ticks | Force computation: 186703413 clock ticks\n",
      "[t-SNE] Tree: 11509132 clock ticks | Force computation: 181760410 clock ticks\n",
      "[t-SNE] Tree: 13188104 clock ticks | [t-SNE] Tree: 13014410 clock ticks | Force computation: 191676880 clock ticks\n",
      "Force computation: 196071272 clock ticks\n",
      "[t-SNE] Tree: 13084398 clock ticks | Force computation: 194785306 clock ticks\n",
      "[t-SNE] Tree: 13708568 clock ticks | [t-SNE] Tree: 12929718 clock ticks | [t-SNE] Tree: 11416294 clock ticks | [t-SNE] Tree: 12823509 clock ticks | Force computation: 193989928 clock ticks\n",
      "Force computation: 194966086 clock ticks\n",
      "[t-SNE] Tree: 14481983 clock ticks | Force computation: 194501003 clock ticks\n",
      "[t-SNE] Tree: 13699378 clock ticks | [t-SNE] Tree: 12902352 clock ticks | Force computation: 189673431 clock ticks\n",
      "[t-SNE] Tree: 13220903 clock ticks | Force comput"
     ]
    },
    {
     "name": "stderr",
     "output_type": "stream",
     "text": [
      "Gradient Descent error: 168.60146 grad_norm: 6.78413e-01:   4%|███▊                                                                                    | 11/250 [04:54<1:46:39, 26.78s/it]\n"
     ]
    },
    {
     "ename": "KeyboardInterrupt",
     "evalue": "",
     "output_type": "error",
     "traceback": [
      "\u001b[0;31m---------------------------------------------------------------------------\u001b[0m",
      "\u001b[0;31mKeyboardInterrupt\u001b[0m                         Traceback (most recent call last)",
      "Cell \u001b[0;32mIn[7], line 3\u001b[0m\n\u001b[1;32m      1\u001b[0m \u001b[38;5;66;03m# Compute the embedding\u001b[39;00m\n\u001b[1;32m      2\u001b[0m \u001b[38;5;28;01mtry\u001b[39;00m:\n\u001b[0;32m----> 3\u001b[0m     hyperbolicEmbedding \u001b[38;5;241m=\u001b[39m \u001b[43mhtsne\u001b[49m\u001b[38;5;241;43m.\u001b[39;49m\u001b[43mfit_transform\u001b[49m\u001b[43m(\u001b[49m\u001b[43m(\u001b[49m\u001b[43mD\u001b[49m\u001b[43m,\u001b[49m\u001b[43m \u001b[49m\u001b[43mV\u001b[49m\u001b[43m)\u001b[49m\u001b[43m)\u001b[49m\n\u001b[1;32m      4\u001b[0m \u001b[38;5;28;01mexcept\u001b[39;00m \u001b[38;5;167;01mValueError\u001b[39;00m:\n\u001b[1;32m      5\u001b[0m     hyperbolicEmbedding \u001b[38;5;241m=\u001b[39m find_last_embedding(log_path)\n",
      "File \u001b[0;32m~/Coding/research_project/hyperbolic-tsne/hyperbolicTSNE/hyperbolic_tsne_.py:233\u001b[0m, in \u001b[0;36mHyperbolicTSNE.fit_transform\u001b[0;34m(self, X, Y)\u001b[0m\n\u001b[1;32m    216\u001b[0m \u001b[38;5;28;01mdef\u001b[39;00m \u001b[38;5;21mfit_transform\u001b[39m(\u001b[38;5;28mself\u001b[39m, X, Y\u001b[38;5;241m=\u001b[39m\u001b[38;5;28;01mNone\u001b[39;00m):\n\u001b[1;32m    217\u001b[0m \u001b[38;5;250m    \u001b[39m\u001b[38;5;124;03m\"\"\"Fit X into an embedded space and return that transformed output.\u001b[39;00m\n\u001b[1;32m    218\u001b[0m \u001b[38;5;124;03m    Parameters\u001b[39;00m\n\u001b[1;32m    219\u001b[0m \u001b[38;5;124;03m    ----------\u001b[39;00m\n\u001b[0;32m   (...)\u001b[0m\n\u001b[1;32m    231\u001b[0m \u001b[38;5;124;03m        Embedding of the training data in low-dimensional space.\u001b[39;00m\n\u001b[1;32m    232\u001b[0m \u001b[38;5;124;03m    \"\"\"\u001b[39;00m\n\u001b[0;32m--> 233\u001b[0m     X_embedded \u001b[38;5;241m=\u001b[39m \u001b[38;5;28;43mself\u001b[39;49m\u001b[38;5;241;43m.\u001b[39;49m\u001b[43m_fit\u001b[49m\u001b[43m(\u001b[49m\u001b[43mX\u001b[49m\u001b[43m)\u001b[49m\n\u001b[1;32m    234\u001b[0m     \u001b[38;5;28mself\u001b[39m\u001b[38;5;241m.\u001b[39membedding_ \u001b[38;5;241m=\u001b[39m X_embedded\n\u001b[1;32m    235\u001b[0m     \u001b[38;5;28;01mreturn\u001b[39;00m \u001b[38;5;28mself\u001b[39m\u001b[38;5;241m.\u001b[39membedding_\n",
      "File \u001b[0;32m~/Coding/research_project/hyperbolic-tsne/hyperbolicTSNE/hyperbolic_tsne_.py:212\u001b[0m, in \u001b[0;36mHyperbolicTSNE._fit\u001b[0;34m(self, X)\u001b[0m\n\u001b[1;32m    209\u001b[0m \u001b[38;5;28mself\u001b[39m\u001b[38;5;241m.\u001b[39mopt_params[\u001b[38;5;124m\"\u001b[39m\u001b[38;5;124mD\u001b[39m\u001b[38;5;124m\"\u001b[39m] \u001b[38;5;241m=\u001b[39m D  \u001b[38;5;66;03m# Some optimizers need this\u001b[39;00m\n\u001b[1;32m    210\u001b[0m \u001b[38;5;28mself\u001b[39m\u001b[38;5;241m.\u001b[39moptimizer \u001b[38;5;241m=\u001b[39m \u001b[38;5;28mself\u001b[39m\u001b[38;5;241m.\u001b[39mopt_method(\n\u001b[1;32m    211\u001b[0m     Y0\u001b[38;5;241m=\u001b[39mX_embedded, V\u001b[38;5;241m=\u001b[39mV, n_components\u001b[38;5;241m=\u001b[39m\u001b[38;5;28mself\u001b[39m\u001b[38;5;241m.\u001b[39mn_components, other_params\u001b[38;5;241m=\u001b[39m\u001b[38;5;28mself\u001b[39m\u001b[38;5;241m.\u001b[39mopt_params, verbose\u001b[38;5;241m=\u001b[39m\u001b[38;5;28mself\u001b[39m\u001b[38;5;241m.\u001b[39mverbose)\n\u001b[0;32m--> 212\u001b[0m X_embedded, cf, runtime, its \u001b[38;5;241m=\u001b[39m \u001b[38;5;28;43mself\u001b[39;49m\u001b[38;5;241;43m.\u001b[39;49m\u001b[43moptimizer\u001b[49m\u001b[38;5;241;43m.\u001b[39;49m\u001b[43mrun\u001b[49m\u001b[43m(\u001b[49m\u001b[43m)\u001b[49m\n\u001b[1;32m    214\u001b[0m \u001b[38;5;28;01mreturn\u001b[39;00m X_embedded\n",
      "File \u001b[0;32m~/Coding/research_project/hyperbolic-tsne/hyperbolicTSNE/optimizer_.py:152\u001b[0m, in \u001b[0;36mSequentialOptimizer.run\u001b[0;34m(self)\u001b[0m\n\u001b[1;32m    150\u001b[0m se[\u001b[38;5;124m\"\u001b[39m\u001b[38;5;124mparams\u001b[39m\u001b[38;5;124m\"\u001b[39m][\u001b[38;5;124m\"\u001b[39m\u001b[38;5;124mverbose\u001b[39m\u001b[38;5;124m\"\u001b[39m] \u001b[38;5;241m=\u001b[39m \u001b[38;5;28mself\u001b[39m\u001b[38;5;241m.\u001b[39mverbose\n\u001b[1;32m    151\u001b[0m \u001b[38;5;66;03m# Start: logging\u001b[39;00m\n\u001b[0;32m--> 152\u001b[0m \u001b[38;5;28mself\u001b[39m\u001b[38;5;241m.\u001b[39mY, \u001b[38;5;28mself\u001b[39m\u001b[38;5;241m.\u001b[39mcf_val, its \u001b[38;5;241m=\u001b[39m \u001b[43mse\u001b[49m\u001b[43m[\u001b[49m\u001b[38;5;124;43m\"\u001b[39;49m\u001b[38;5;124;43mfunction\u001b[39;49m\u001b[38;5;124;43m\"\u001b[39;49m\u001b[43m]\u001b[49m\u001b[43m(\u001b[49m\n\u001b[1;32m    153\u001b[0m \u001b[43m    \u001b[49m\u001b[38;5;28;43mself\u001b[39;49m\u001b[38;5;241;43m.\u001b[39;49m\u001b[43mY\u001b[49m\u001b[43m,\u001b[49m\u001b[43m \u001b[49m\u001b[38;5;28;43mself\u001b[39;49m\u001b[38;5;241;43m.\u001b[39;49m\u001b[43mcf\u001b[49m\u001b[43m,\u001b[49m\u001b[43m \u001b[49m\u001b[38;5;28;43mdict\u001b[39;49m\u001b[43m(\u001b[49m\u001b[43m{\u001b[49m\u001b[38;5;124;43m\"\u001b[39;49m\u001b[38;5;124;43mV\u001b[39;49m\u001b[38;5;124;43m\"\u001b[39;49m\u001b[43m:\u001b[49m\u001b[43m \u001b[49m\u001b[38;5;28;43mself\u001b[39;49m\u001b[38;5;241;43m.\u001b[39;49m\u001b[43mV\u001b[49m\u001b[43m}\u001b[49m\u001b[43m,\u001b[49m\u001b[43m \u001b[49m\u001b[38;5;241;43m*\u001b[39;49m\u001b[38;5;241;43m*\u001b[39;49m\u001b[38;5;28;43mself\u001b[39;49m\u001b[38;5;241;43m.\u001b[39;49m\u001b[43mparams\u001b[49m\u001b[43m[\u001b[49m\u001b[38;5;124;43m\"\u001b[39;49m\u001b[38;5;124;43mcf_params\u001b[39;49m\u001b[38;5;124;43m\"\u001b[39;49m\u001b[43m]\u001b[49m\u001b[43m)\u001b[49m\u001b[43m,\u001b[49m\u001b[43m \u001b[49m\u001b[43mlogging_key\u001b[49m\u001b[38;5;241;43m=\u001b[39;49m\u001b[38;5;124;43m\"\u001b[39;49m\u001b[38;5;124;43msequential_opt_\u001b[39;49m\u001b[38;5;124;43m\"\u001b[39;49m\u001b[43m \u001b[49m\u001b[38;5;241;43m+\u001b[39;49m\u001b[43m \u001b[49m\u001b[38;5;28;43mstr\u001b[39;49m\u001b[43m(\u001b[49m\u001b[43msolver_counter\u001b[49m\u001b[43m)\u001b[49m\u001b[43m,\u001b[49m\u001b[43m \u001b[49m\u001b[43mlogging_dict\u001b[49m\u001b[38;5;241;43m=\u001b[39;49m\u001b[43mlogging_dict\u001b[49m\u001b[43m,\u001b[49m\u001b[43m \u001b[49m\u001b[38;5;241;43m*\u001b[39;49m\u001b[38;5;241;43m*\u001b[39;49m\u001b[43mse\u001b[49m\u001b[43m[\u001b[49m\u001b[38;5;124;43m\"\u001b[39;49m\u001b[38;5;124;43mparams\u001b[39;49m\u001b[38;5;124;43m\"\u001b[39;49m\u001b[43m]\u001b[49m\n\u001b[1;32m    154\u001b[0m \u001b[43m\u001b[49m\u001b[43m)\u001b[49m\n\u001b[1;32m    155\u001b[0m solver_counter \u001b[38;5;241m+\u001b[39m\u001b[38;5;241m=\u001b[39m \u001b[38;5;241m1\u001b[39m\n\u001b[1;32m    156\u001b[0m \u001b[38;5;66;03m# End: logging\u001b[39;00m\n",
      "File \u001b[0;32m~/Coding/research_project/hyperbolic-tsne/hyperbolicTSNE/solver_.py:246\u001b[0m, in \u001b[0;36mgradient_descent\u001b[0;34m(y0, cf, cf_params, start_it, n_iter, n_iter_check, n_iter_without_progress, threshold_cf, threshold_its, threshold_check_size, momentum, learning_rate, min_gain, vanilla, min_grad_norm, error_tol, size_tol, verbose, rescale, n_iter_rescale, gradient_mask, grad_scale_fix, logging_dict, logging_key)\u001b[0m\n\u001b[1;32m    243\u001b[0m compute_error \u001b[38;5;241m=\u001b[39m check_convergence \u001b[38;5;129;01mor\u001b[39;00m check_threshold \u001b[38;5;129;01mor\u001b[39;00m i \u001b[38;5;241m==\u001b[39m n_iter \u001b[38;5;241m-\u001b[39m \u001b[38;5;241m1\u001b[39m\n\u001b[1;32m    245\u001b[0m \u001b[38;5;28;01mif\u001b[39;00m compute_error \u001b[38;5;129;01mor\u001b[39;00m logging:  \u001b[38;5;66;03m# TODO: add different levels of logging to avoid bottlenecks\u001b[39;00m\n\u001b[0;32m--> 246\u001b[0m     error, grad \u001b[38;5;241m=\u001b[39m \u001b[43mcf\u001b[49m\u001b[38;5;241;43m.\u001b[39;49m\u001b[43mobj_grad\u001b[49m\u001b[43m(\u001b[49m\u001b[43my\u001b[49m\u001b[43m,\u001b[49m\u001b[43m \u001b[49m\u001b[38;5;241;43m*\u001b[39;49m\u001b[38;5;241;43m*\u001b[39;49m\u001b[43mcf_params\u001b[49m\u001b[43m)\u001b[49m\n\u001b[1;32m    248\u001b[0m     \u001b[38;5;28;01mif\u001b[39;00m \u001b[38;5;28misinstance\u001b[39m(cf, HyperbolicKL):\n\u001b[1;32m    249\u001b[0m         \u001b[38;5;66;03m# New Fix\u001b[39;00m\n\u001b[1;32m    250\u001b[0m         \u001b[38;5;28;01mif\u001b[39;00m grad_scale_fix:\n",
      "File \u001b[0;32m~/Coding/research_project/hyperbolic-tsne/hyperbolicTSNE/cost_functions_.py:208\u001b[0m, in \u001b[0;36mHyperbolicKL.obj_grad\u001b[0;34m(self, Y, V)\u001b[0m\n\u001b[1;32m    206\u001b[0m     \u001b[38;5;28;01mreturn\u001b[39;00m obj, grad\n\u001b[1;32m    207\u001b[0m \u001b[38;5;28;01melif\u001b[39;00m \u001b[38;5;28mself\u001b[39m\u001b[38;5;241m.\u001b[39mparams[\u001b[38;5;124m\"\u001b[39m\u001b[38;5;124mmethod\u001b[39m\u001b[38;5;124m\"\u001b[39m] \u001b[38;5;241m==\u001b[39m \u001b[38;5;124m\"\u001b[39m\u001b[38;5;124mbarnes-hut\u001b[39m\u001b[38;5;124m\"\u001b[39m:\n\u001b[0;32m--> 208\u001b[0m     obj, grad \u001b[38;5;241m=\u001b[39m \u001b[38;5;28;43mself\u001b[39;49m\u001b[38;5;241;43m.\u001b[39;49m\u001b[43m_obj_bh\u001b[49m\u001b[43m(\u001b[49m\u001b[43mY\u001b[49m\u001b[43m,\u001b[49m\u001b[43m \u001b[49m\u001b[43mV\u001b[49m\u001b[43m,\u001b[49m\u001b[43m \u001b[49m\u001b[43mn_samples\u001b[49m\u001b[43m)\u001b[49m\n\u001b[1;32m    209\u001b[0m     \u001b[38;5;28;01mreturn\u001b[39;00m obj, grad\n",
      "File \u001b[0;32m~/Coding/research_project/hyperbolic-tsne/hyperbolicTSNE/cost_functions_.py:297\u001b[0m, in \u001b[0;36mHyperbolicKL._obj_bh\u001b[0;34m(self, Y, V, n_samples)\u001b[0m\n\u001b[1;32m    278\u001b[0m \u001b[38;5;28;01mdef\u001b[39;00m \u001b[38;5;21m_obj_bh\u001b[39m(\u001b[38;5;28mself\u001b[39m, Y, V, n_samples):\n\u001b[1;32m    279\u001b[0m \u001b[38;5;250m    \u001b[39m\u001b[38;5;124;03m\"\"\"Approximate computation of the KL Divergence.\u001b[39;00m\n\u001b[1;32m    280\u001b[0m \n\u001b[1;32m    281\u001b[0m \u001b[38;5;124;03m    Parameters\u001b[39;00m\n\u001b[0;32m   (...)\u001b[0m\n\u001b[1;32m    295\u001b[0m \u001b[38;5;124;03m        Array (n_samples x n_components) with KL Divergence gradient values.\u001b[39;00m\n\u001b[1;32m    296\u001b[0m \u001b[38;5;124;03m    \"\"\"\u001b[39;00m\n\u001b[0;32m--> 297\u001b[0m     \u001b[38;5;28;01mreturn\u001b[39;00m \u001b[38;5;28;43mself\u001b[39;49m\u001b[38;5;241;43m.\u001b[39;49m\u001b[43m_grad_bh\u001b[49m\u001b[43m(\u001b[49m\u001b[43mY\u001b[49m\u001b[43m,\u001b[49m\u001b[43m \u001b[49m\u001b[43mV\u001b[49m\u001b[43m,\u001b[49m\u001b[43m \u001b[49m\u001b[43mn_samples\u001b[49m\u001b[43m)\u001b[49m\n",
      "File \u001b[0;32m~/Coding/research_project/hyperbolic-tsne/hyperbolicTSNE/cost_functions_.py:327\u001b[0m, in \u001b[0;36mHyperbolicKL._grad_bh\u001b[0;34m(self, Y, V, n_samples, save_timings)\u001b[0m\n\u001b[1;32m    325\u001b[0m grad \u001b[38;5;241m=\u001b[39m np\u001b[38;5;241m.\u001b[39mzeros(Y\u001b[38;5;241m.\u001b[39mshape, dtype\u001b[38;5;241m=\u001b[39mctypes\u001b[38;5;241m.\u001b[39mc_double)\n\u001b[1;32m    326\u001b[0m timings \u001b[38;5;241m=\u001b[39m np\u001b[38;5;241m.\u001b[39mzeros(\u001b[38;5;241m4\u001b[39m, dtype\u001b[38;5;241m=\u001b[39mctypes\u001b[38;5;241m.\u001b[39mc_float)\n\u001b[0;32m--> 327\u001b[0m error \u001b[38;5;241m=\u001b[39m \u001b[43mgradient\u001b[49m\u001b[43m(\u001b[49m\n\u001b[1;32m    328\u001b[0m \u001b[43m    \u001b[49m\u001b[43mtimings\u001b[49m\u001b[43m,\u001b[49m\n\u001b[1;32m    329\u001b[0m \u001b[43m    \u001b[49m\u001b[43mval_V\u001b[49m\u001b[43m,\u001b[49m\u001b[43m \u001b[49m\u001b[43mY\u001b[49m\u001b[43m,\u001b[49m\u001b[43m \u001b[49m\u001b[43mneighbors\u001b[49m\u001b[43m,\u001b[49m\u001b[43m \u001b[49m\u001b[43mindptr\u001b[49m\u001b[43m,\u001b[49m\u001b[43m \u001b[49m\u001b[43mgrad\u001b[49m\u001b[43m,\u001b[49m\n\u001b[1;32m    330\u001b[0m \u001b[43m    \u001b[49m\u001b[38;5;28;43mself\u001b[39;49m\u001b[38;5;241;43m.\u001b[39;49m\u001b[43mparams\u001b[49m\u001b[43m[\u001b[49m\u001b[38;5;124;43m\"\u001b[39;49m\u001b[38;5;124;43mparams\u001b[39;49m\u001b[38;5;124;43m\"\u001b[39;49m\u001b[43m]\u001b[49m\u001b[43m[\u001b[49m\u001b[38;5;124;43m\"\u001b[39;49m\u001b[38;5;124;43mangle\u001b[39;49m\u001b[38;5;124;43m\"\u001b[39;49m\u001b[43m]\u001b[49m\u001b[43m,\u001b[49m\n\u001b[1;32m    331\u001b[0m \u001b[43m    \u001b[49m\u001b[38;5;28;43mself\u001b[39;49m\u001b[38;5;241;43m.\u001b[39;49m\u001b[43mn_components\u001b[49m\u001b[43m,\u001b[49m\n\u001b[1;32m    332\u001b[0m \u001b[43m    \u001b[49m\u001b[38;5;28;43mself\u001b[39;49m\u001b[38;5;241;43m.\u001b[39;49m\u001b[43mparams\u001b[49m\u001b[43m[\u001b[49m\u001b[38;5;124;43m\"\u001b[39;49m\u001b[38;5;124;43mparams\u001b[39;49m\u001b[38;5;124;43m\"\u001b[39;49m\u001b[43m]\u001b[49m\u001b[43m[\u001b[49m\u001b[38;5;124;43m\"\u001b[39;49m\u001b[38;5;124;43mverbose\u001b[39;49m\u001b[38;5;124;43m\"\u001b[39;49m\u001b[43m]\u001b[49m\u001b[43m,\u001b[49m\n\u001b[1;32m    333\u001b[0m \u001b[43m    \u001b[49m\u001b[43mdof\u001b[49m\u001b[38;5;241;43m=\u001b[39;49m\u001b[38;5;28;43mself\u001b[39;49m\u001b[38;5;241;43m.\u001b[39;49m\u001b[43mparams\u001b[49m\u001b[43m[\u001b[49m\u001b[38;5;124;43m\"\u001b[39;49m\u001b[38;5;124;43mparams\u001b[39;49m\u001b[38;5;124;43m\"\u001b[39;49m\u001b[43m]\u001b[49m\u001b[43m[\u001b[49m\u001b[38;5;124;43m\"\u001b[39;49m\u001b[38;5;124;43mdegrees_of_freedom\u001b[39;49m\u001b[38;5;124;43m\"\u001b[39;49m\u001b[43m]\u001b[49m\u001b[43m,\u001b[49m\n\u001b[1;32m    334\u001b[0m \u001b[43m    \u001b[49m\u001b[43mcompute_error\u001b[49m\u001b[38;5;241;43m=\u001b[39;49m\u001b[38;5;28;43;01mTrue\u001b[39;49;00m\u001b[43m,\u001b[49m\n\u001b[1;32m    335\u001b[0m \u001b[43m    \u001b[49m\u001b[43mnum_threads\u001b[49m\u001b[38;5;241;43m=\u001b[39;49m\u001b[38;5;28;43mself\u001b[39;49m\u001b[38;5;241;43m.\u001b[39;49m\u001b[43mparams\u001b[49m\u001b[43m[\u001b[49m\u001b[38;5;124;43m\"\u001b[39;49m\u001b[38;5;124;43mparams\u001b[39;49m\u001b[38;5;124;43m\"\u001b[39;49m\u001b[43m]\u001b[49m\u001b[43m[\u001b[49m\u001b[38;5;124;43m\"\u001b[39;49m\u001b[38;5;124;43mnum_threads\u001b[39;49m\u001b[38;5;124;43m\"\u001b[39;49m\u001b[43m]\u001b[49m\u001b[43m,\u001b[49m\n\u001b[1;32m    336\u001b[0m \u001b[43m    \u001b[49m\u001b[43mexact\u001b[49m\u001b[38;5;241;43m=\u001b[39;49m\u001b[38;5;28;43;01mFalse\u001b[39;49;00m\u001b[43m,\u001b[49m\n\u001b[1;32m    337\u001b[0m \u001b[43m    \u001b[49m\u001b[43marea_split\u001b[49m\u001b[38;5;241;43m=\u001b[39;49m\u001b[38;5;28;43mself\u001b[39;49m\u001b[38;5;241;43m.\u001b[39;49m\u001b[43mparams\u001b[49m\u001b[43m[\u001b[49m\u001b[38;5;124;43m\"\u001b[39;49m\u001b[38;5;124;43mparams\u001b[39;49m\u001b[38;5;124;43m\"\u001b[39;49m\u001b[43m]\u001b[49m\u001b[43m[\u001b[49m\u001b[38;5;124;43m\"\u001b[39;49m\u001b[38;5;124;43marea_split\u001b[39;49m\u001b[38;5;124;43m\"\u001b[39;49m\u001b[43m]\u001b[49m\u001b[43m,\u001b[49m\n\u001b[1;32m    338\u001b[0m \u001b[43m    \u001b[49m\u001b[43mgrad_fix\u001b[49m\u001b[38;5;241;43m=\u001b[39;49m\u001b[38;5;28;43mself\u001b[39;49m\u001b[38;5;241;43m.\u001b[39;49m\u001b[43mparams\u001b[49m\u001b[43m[\u001b[49m\u001b[38;5;124;43m\"\u001b[39;49m\u001b[38;5;124;43mparams\u001b[39;49m\u001b[38;5;124;43m\"\u001b[39;49m\u001b[43m]\u001b[49m\u001b[43m[\u001b[49m\u001b[38;5;124;43m\"\u001b[39;49m\u001b[38;5;124;43mgrad_fix\u001b[39;49m\u001b[38;5;124;43m\"\u001b[39;49m\u001b[43m]\u001b[49m\n\u001b[1;32m    339\u001b[0m \u001b[43m\u001b[49m\u001b[43m)\u001b[49m\n\u001b[1;32m    341\u001b[0m grad \u001b[38;5;241m=\u001b[39m grad\u001b[38;5;241m.\u001b[39mravel()\n\u001b[1;32m    342\u001b[0m grad \u001b[38;5;241m*\u001b[39m\u001b[38;5;241m=\u001b[39m \u001b[38;5;241m4\u001b[39m\n",
      "\u001b[0;31mKeyboardInterrupt\u001b[0m: "
     ]
    }
   ],
   "source": [
    "# Compute the embedding\n",
    "try:\n",
    "    hyperbolicEmbedding = htsne.fit_transform((D, V))\n",
    "except ValueError:\n",
    "    hyperbolicEmbedding = find_last_embedding(log_path)\n",
    "    traceback.print_exc()"
   ]
  },
  {
   "cell_type": "markdown",
   "metadata": {},
   "source": [
    "## Exporting and visualization\n",
    "\n",
    "After running the embedding process, the embeddings arrays are saved to the `log_path`. We can use this information to visualize the embeddings using utility functions defined in `hyperbolicTSNE.visualization` as shown below."
   ]
  },
  {
   "cell_type": "code",
   "execution_count": null,
   "metadata": {
    "ExecuteTime": {
     "end_time": "2023-11-13T15:43:29.644001757Z",
     "start_time": "2023-11-13T15:43:29.408874430Z"
    }
   },
   "outputs": [],
   "source": [
    "# Create a rendering of the embedding and save it to a file\n",
    "if not os.path.exists(\"results\"):\n",
    "    os.mkdir(\"results\")\n",
    "fig = plot_poincare(hyperbolicEmbedding, dataLabels)\n",
    "fig.savefig(f\"results/{dataset.name}.png\")"
   ]
  },
  {
   "cell_type": "code",
   "execution_count": null,
   "metadata": {
    "ExecuteTime": {
     "end_time": "2023-11-13T15:49:11.530204393Z",
     "start_time": "2023-11-13T15:49:04.075561907Z"
    }
   },
   "outputs": [],
   "source": [
    "# This renders a GIF animation of the embedding process. If FFMPEG is installed, the command also supports .mp4 as file ending \n",
    "animate(logging_dict, dataLabels, f\"results/{dataset.name}_ani.gif\", fast=True, plot_ee=True)"
   ]
  },
  {
   "cell_type": "code",
   "execution_count": null,
   "metadata": {},
   "outputs": [],
   "source": []
  },
  {
   "cell_type": "code",
   "execution_count": null,
   "metadata": {},
   "outputs": [],
   "source": []
  }
 ],
 "metadata": {
  "kernelspec": {
   "display_name": "htsne",
   "language": "python",
   "name": "pyenv_htsne"
  },
  "language_info": {
   "codemirror_mode": {
    "name": "ipython",
    "version": 3
   },
   "file_extension": ".py",
   "mimetype": "text/x-python",
   "name": "python",
   "nbconvert_exporter": "python",
   "pygments_lexer": "ipython3",
   "version": "3.9.16"
  }
 },
 "nbformat": 4,
 "nbformat_minor": 4
}
